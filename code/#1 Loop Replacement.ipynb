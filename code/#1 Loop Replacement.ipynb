{
 "cells": [
  {
   "cell_type": "markdown",
   "id": "998089ed",
   "metadata": {},
   "source": [
    "### Before"
   ]
  },
  {
   "cell_type": "code",
   "execution_count": null,
   "id": "a508f033",
   "metadata": {},
   "outputs": [],
   "source": [
    "items = []\n",
    "for i in range(1000000):\n",
    "    items.append(i * 2)"
   ]
  },
  {
   "cell_type": "markdown",
   "id": "833f0ce0",
   "metadata": {},
   "source": [
    "### After"
   ]
  },
  {
   "cell_type": "code",
   "execution_count": null,
   "id": "09f51e97",
   "metadata": {},
   "outputs": [],
   "source": [
    "items = [i * 2 for i in range(1000000)]"
   ]
  }
 ],
 "metadata": {
  "kernelspec": {
   "display_name": "Python 3",
   "language": "python",
   "name": "python3"
  },
  "language_info": {
   "codemirror_mode": {
    "name": "ipython",
    "version": 3
   },
   "file_extension": ".py",
   "mimetype": "text/x-python",
   "name": "python",
   "nbconvert_exporter": "python",
   "pygments_lexer": "ipython3",
   "version": "3.10.11"
  }
 },
 "nbformat": 4,
 "nbformat_minor": 5
}
